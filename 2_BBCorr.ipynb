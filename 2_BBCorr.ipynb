{
 "cells": [
  {
   "cell_type": "markdown",
   "id": "ce85f2e8",
   "metadata": {},
   "source": [
    "Goal is to correct for black body curve of the telluric standard star"
   ]
  },
  {
   "cell_type": "code",
   "execution_count": 1,
   "id": "9484f3a4",
   "metadata": {},
   "outputs": [],
   "source": [
    "from math import *\n",
    "import astropy.units as u\n",
    "import numpy as np \n",
    "from astropy.io import fits,ascii\n",
    "import matplotlib as mpl\n",
    "import matplotlib.pyplot as plt\n",
    "import sys\n",
    "from specutils import Spectrum1D\n",
    "mpl.rc('font',family='serif')"
   ]
  },
  {
   "cell_type": "code",
   "execution_count": 2,
   "id": "468f8a59",
   "metadata": {},
   "outputs": [],
   "source": [
    "# define constants (all cgs)\n",
    "h=6.626e-27 \n",
    "k=1.381e-16 \n",
    "c=2.99792e10"
   ]
  },
  {
   "cell_type": "markdown",
   "id": "445ffca1",
   "metadata": {},
   "source": [
    "The following are different functions"
   ]
  },
  {
   "cell_type": "code",
   "execution_count": 3,
   "id": "a84d7b02",
   "metadata": {},
   "outputs": [],
   "source": [
    "### Load telluric spectrum from step 1 ###\n",
    "def LoadFile(filename):\n",
    "    data=ascii.read(filename) \n",
    "    return data['wavelength'],data['flux']"
   ]
  },
  {
   "cell_type": "code",
   "execution_count": 4,
   "id": "7551384b",
   "metadata": {},
   "outputs": [],
   "source": [
    "### Return blackbody curve calculated at input wv points ###\n",
    "\n",
    "# T  = blackbody temperature\n",
    "# wv = wavelength array to calculate BB over (microns)\n",
    "# Rd = ratio of radius/distance(pc)\n",
    "# sc = scaling factor (just for plotting purposes)\n",
    "\n",
    "def BlackBodyCal(T,wv,Rd,sc):\n",
    "    Flux=[]\n",
    "    for i in wv:\n",
    "        nu=c/i*1e4 # converting wavelength to frequency\n",
    "        tt=2*h*nu**3/c**2/(exp(h*nu/k/T)-1)*pi*(Rd)**2*1e29*sc\n",
    "        Flux.append(tt) #flux unit: micro-jansky\n",
    "    return np.asarray(Flux)"
   ]
  },
  {
   "cell_type": "code",
   "execution_count": 5,
   "id": "6c62d5b1",
   "metadata": {},
   "outputs": [],
   "source": [
    "### Plot to look at the BB curve and telluric spectrum together ###\n",
    "\n",
    "# wv   = wavelength array of telluric spectrum\n",
    "# flux = flux array of telluric spectrum\n",
    "# name = telluric star\n",
    "# saveflag = 'Y' saves plot to a png\n",
    "\n",
    "def Plot1(wv,flux,name,saveflag):\n",
    "    plt.figure(1,figsize=(10,5))\n",
    "    plt.gcf().subplots_adjust(top=0.95,bottom=0.15,right=0.97,left=0.1)\n",
    "    plt.plot(wv,flux,'k',label=name)\n",
    "    plt.plot(wvBB,FluxBB,'r',label='BB')\n",
    "    plt.tick_params(axis='both',which='major',labelsize=15,direction='in',right=True,top=True)\n",
    "    plt.ylabel('Flux (cts)',fontsize=20)\n",
    "    plt.xlabel(r'$\\lambda$ (${\\AA}$)',fontsize=20)\n",
    "    plt.legend(fontsize=15)\n",
    "    if saveflag=='Y':\n",
    "        plt.savefig(name+'-BBCorr.png')\n",
    "    plt.show()\n",
    "    plt.close('all')"
   ]
  },
  {
   "cell_type": "code",
   "execution_count": 6,
   "id": "a930e2cc",
   "metadata": {},
   "outputs": [],
   "source": [
    "### Correct for blackbody curve in telluric spectrum ###\n",
    "\n",
    "# wv   = telluric wavelength array\n",
    "# flux = telluric flux array\n",
    "# T    = telluric Teff\n",
    "# Rd   = telluric radius/distance ratio\n",
    "# sc   = scaling factor multiplied to blackbody curve (really doesn't matter here)\n",
    "# plotflag = 'Y' plots corrected telluric spectrum\n",
    "\n",
    "### Returns an array of BB-corrected telluric flux ###\n",
    "\n",
    "def BBCorr(wv,flux,T,Rd,sc,plotflag):\n",
    "    BB_Flux=BlackBodyCal(T,wv*1e-4,Rd,sc)\n",
    "    corrFlux=[x/y for x,y in zip(flux,BB_Flux)]\n",
    "    ttFlux=[x/y for x,y in zip(flux,corrFlux)]\n",
    "    if plotflag=='Y':\n",
    "        plt.figure()\n",
    "        plt.plot(wv,corrFlux,'k')\n",
    "        plt.show()\n",
    "        plt.close('all')\n",
    "    return corrFlux"
   ]
  },
  {
   "cell_type": "code",
   "execution_count": 7,
   "id": "771d596b",
   "metadata": {},
   "outputs": [],
   "source": [
    "#### Save the BB-corrected telluric star spectrum ###\n",
    "def SaveOutput(wv,flux,outname):\n",
    "    data_out={'wavelength': wv,'flux': flux}\n",
    "    ascii.write(data_out,outname, overwrite = True)"
   ]
  },
  {
   "cell_type": "markdown",
   "id": "d728568c",
   "metadata": {},
   "source": [
    "Calling the functions"
   ]
  },
  {
   "cell_type": "code",
   "execution_count": 8,
   "id": "0ff5fe82",
   "metadata": {},
   "outputs": [],
   "source": [
    "name = 'HIP1123'  # Telluric standard name\n",
    "T = 9450          # Telluric star Teff\n",
    "\n",
    "tellfile = 'telluric-step1.txt'\n",
    "\n",
    "outfile = 'telluric-step2.txt'"
   ]
  },
  {
   "cell_type": "code",
   "execution_count": 9,
   "id": "5babf9c8",
   "metadata": {},
   "outputs": [],
   "source": [
    "# Load telluric spectrum from previous step:\n",
    "wv,flux=LoadFile(tellfile)\n"
   ]
  },
  {
   "cell_type": "code",
   "execution_count": 10,
   "id": "f8a1b3b1",
   "metadata": {},
   "outputs": [
    {
     "data": {
      "image/png": "[encoded data removed]",
      "text/plain": [
       "<Figure size 720x360 with 1 Axes>"
      ]
     },
     "metadata": {
      "needs_background": "light"
     },
     "output_type": "display_data"
    }
   ],
   "source": [
    "# Calculating blackbody model that will be removed from telluric spectrum:\n",
    "wvBB=np.arange(wv[0]*0.85,wv[-1]*1.15,0.1)\n",
    "FluxBB=BlackBodyCal(T,wvBB*1e-4,1e-12,1e4)\n",
    "\n",
    "# Plotting blackbody curve with telluric spectra to show the trend that will be removed:\n",
    "Plot1(wv,flux,name,False)"
   ]
  },
  {
   "cell_type": "code",
   "execution_count": 11,
   "id": "98553be6",
   "metadata": {},
   "outputs": [
    {
     "data": {
      "image/png": "[encoded data removed]",
      "text/plain": [
       "<Figure size 432x288 with 1 Axes>"
      ]
     },
     "metadata": {
      "needs_background": "light"
     },
     "output_type": "display_data"
    }
   ],
   "source": [
    "# Doing blackbody correction:\n",
    "flux_corr=BBCorr(wv,flux,T,1e-12,1e4,'Y')"
   ]
  },
  {
   "cell_type": "code",
   "execution_count": 12,
   "id": "4a3ef6f4",
   "metadata": {},
   "outputs": [],
   "source": [
    "# Saving the BB-corrected telluric spectrum to .txt file:\n",
    "SaveOutput(wv,flux_corr,outfile)"
   ]
  },
  {
   "cell_type": "code",
   "execution_count": null,
   "id": "47ca03a4",
   "metadata": {},
   "outputs": [],
   "source": []
  }
 ],
 "metadata": {
  "kernelspec": {
   "display_name": "Python 3 (ipykernel)",
   "language": "python",
   "name": "python3"
  },
  "language_info": {
   "codemirror_mode": {
    "name": "ipython",
    "version": 3
   },
   "file_extension": ".py",
   "mimetype": "text/x-python",
   "name": "python",
   "nbconvert_exporter": "python",
   "pygments_lexer": "ipython3",
   "version": "3.8.8"
  }
 },
 "nbformat": 4,
 "nbformat_minor": 5
}
